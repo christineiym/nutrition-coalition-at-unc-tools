{
 "cells": [
  {
   "cell_type": "markdown",
   "source": [
    "# Survey Analysis\n",
    "\n",
    "Including order summary and matching to payments."
   ],
   "metadata": {}
  },
  {
   "cell_type": "code",
   "execution_count": null,
   "source": [
    "__author__ = \"christineiym\""
   ],
   "outputs": [],
   "metadata": {}
  },
  {
   "cell_type": "markdown",
   "source": [
    "## Part 0: Setup"
   ],
   "metadata": {}
  },
  {
   "cell_type": "markdown",
   "source": [
    "Import necessary packages."
   ],
   "metadata": {}
  },
  {
   "cell_type": "code",
   "execution_count": null,
   "source": [
    "import pandas as pd\n",
    "import numpy as np\n",
    "import re"
   ],
   "outputs": [],
   "metadata": {}
  },
  {
   "cell_type": "markdown",
   "source": [
    "Define necessary constants."
   ],
   "metadata": {}
  },
  {
   "cell_type": "code",
   "execution_count": null,
   "source": [
    "SURVEY_CSV_PATH: str = \"survey_edited.csv\"\n",
    "VENMO_CSV_PATH: str = \"venmo_statement_sept_oct_21.csv\"\n",
    "INDIVIDUAL_SUMMARY_CSV_PATH: str = \"../indiv_summaries_all.csv\"\n",
    "ACCOUNTING_ALL_CSV_PATH: str = \"../accounting_all_copy.csv\"\n",
    "ACCOUNTING_DIF_CSV_PATH: str = \"../accounting_dif_copy.csv\"\n",
    "\n",
    "IGNORE_SURVEY_CSV_ROWS: list[int] = [0, 2]\n",
    "IGNORE_VENMO_CSV_ROWS: list[int] = [0, 1, 3]\n",
    "MAX_SHIRTS_IN_ORDER: int = 100\n",
    "SHORT_PRICE: int = 15\n",
    "LONG_PRICE: int = 20\n",
    "\n",
    "SIZE_COLUMN_SUFFIX: str = \" - Shirt [CurrentLoopNumber] size\"\n",
    "SLEEVE_LENGTH_COLUMN_SUFFIX: str = \" - Shirt [CurrentLoopNumber] sleeve length\"\n",
    "\n",
    "ALL_SIZE_COLUMNS: list[str] = [(str(i) + SIZE_COLUMN_SUFFIX) for i in range(1, MAX_SHIRTS_IN_ORDER + 1)]\n",
    "ALL_SLEEVE_LENGTH_COLUMNS: list[str] = [(str(i) + SLEEVE_LENGTH_COLUMN_SUFFIX) for i in range(1, MAX_SHIRTS_IN_ORDER + 1)]"
   ],
   "outputs": [],
   "metadata": {}
  },
  {
   "cell_type": "markdown",
   "source": [
    "Read in the Qualtrics survey CSV and confirm it was read in correctly."
   ],
   "metadata": {}
  },
  {
   "cell_type": "code",
   "execution_count": null,
   "source": [
    "SURVEY_CSV_RAW: pd.DataFrame = pd.read_csv(SURVEY_CSV_PATH, encoding=\"utf-8\", skiprows=IGNORE_SURVEY_CSV_ROWS)\n",
    "\n",
    "# Drop columns with no information.\n",
    "# SURVEY_CSV = SURVEY_CSV.dropna(axis=1, how='all')\n",
    "\n",
    "SURVEY_CSV_RAW.head()"
   ],
   "outputs": [],
   "metadata": {}
  },
  {
   "cell_type": "markdown",
   "source": [
    "Create individual order summaries."
   ],
   "metadata": {}
  },
  {
   "cell_type": "markdown",
   "source": [
    "_Combine shirt sizes and sleeve lengths._"
   ],
   "metadata": {}
  },
  {
   "cell_type": "code",
   "execution_count": null,
   "source": [
    "SURVEY_CSV_INDIV = SURVEY_CSV_RAW.copy(deep=True)\n",
    "SURVEY_CSV_INDIV = SURVEY_CSV_INDIV[ALL_SIZE_COLUMNS + ALL_SLEEVE_LENGTH_COLUMNS]\n",
    "\n",
    "shirt_num: int = 1\n",
    "while (shirt_num <= MAX_SHIRTS_IN_ORDER):\n",
    "    current_shirt_col: str = 'Shirt ' + str(shirt_num)\n",
    "    current_size_col: str = str(shirt_num) + SIZE_COLUMN_SUFFIX\n",
    "    current_length_col: str = str(shirt_num) + SLEEVE_LENGTH_COLUMN_SUFFIX\n",
    "    SURVEY_CSV_INDIV[current_shirt_col] = SURVEY_CSV_INDIV[current_length_col] + \\\n",
    "        \" \" + SURVEY_CSV_INDIV[current_size_col]\n",
    "    SURVEY_CSV_INDIV = SURVEY_CSV_INDIV.drop(columns=[current_size_col, current_length_col])\n",
    "\n",
    "    shirt_num += 1\n",
    "\n",
    "# Drop columns with no information.\n",
    "SURVEY_CSV_INDIV = SURVEY_CSV_INDIV.dropna(axis=1, how='all')\n",
    "\n",
    "SURVEY_CSV_INDIV.head()"
   ],
   "outputs": [],
   "metadata": {}
  },
  {
   "cell_type": "markdown",
   "source": [
    "_Get the individual summaries._"
   ],
   "metadata": {}
  },
  {
   "cell_type": "code",
   "execution_count": null,
   "source": [
    "SURVEY_CSV_INDIV_SUM = SURVEY_CSV_INDIV.apply(pd.Series.value_counts, axis=1).fillna(0)\n",
    "SURVEY_CSV_INDIV_SUM = SURVEY_CSV_INDIV_SUM.astype(int)\n",
    "SURVEY_CSV_INDIV_SUM.columns\n",
    "\n",
    "# To reorder columns; based off of seeing the column names\n",
    "SURVEY_CSV_INDIV_SUM = SURVEY_CSV_INDIV_SUM[[\"Short S\", \"Short M\", \"Short L\", \"Short XL\", \"Short XXL\", \"Long XS\", \"Long S\", \"Long M\", \"Long L\", \"Long XL\", \"Long XXL\"]]\n",
    "\n",
    "SURVEY_CSV_INDIV_CONTACT = SURVEY_CSV_RAW[['First Name', 'Last Name', 'Email', 'Phone Number', 'Year/Status', 'Total Number of Shirts', 'Payment method', 'TotalPrice']]\n",
    "\n",
    "SURVEY_CSV_INDIV_COMPLETE = SURVEY_CSV_INDIV_CONTACT.join(SURVEY_CSV_INDIV_SUM, how='outer')\n",
    "SURVEY_CSV_INDIV_COMPLETE.head()\n",
    "\n",
    "SURVEY_CSV_INDIV_COMPLETE.to_csv(INDIVIDUAL_SUMMARY_CSV_PATH)"
   ],
   "outputs": [],
   "metadata": {}
  },
  {
   "cell_type": "markdown",
   "source": [
    "Transform the raw CSV to make analysis for part 2 easier."
   ],
   "metadata": {}
  },
  {
   "cell_type": "markdown",
   "source": [
    "_Combine first and last names._"
   ],
   "metadata": {}
  },
  {
   "cell_type": "code",
   "execution_count": null,
   "source": [
    "SURVEY_CSV_FULL_NAMES = SURVEY_CSV_RAW.copy(deep=True)\n",
    "\n",
    "SURVEY_CSV_FULL_NAMES[\"Full Name\"] = SURVEY_CSV_FULL_NAMES[\"First Name\"] + \" \" + SURVEY_CSV_FULL_NAMES[\"Last Name\"]\n",
    "\n",
    "SURVEY_CSV_FULL_NAMES.head()"
   ],
   "outputs": [],
   "metadata": {}
  },
  {
   "cell_type": "markdown",
   "source": [
    "_Transpose size columns._"
   ],
   "metadata": {}
  },
  {
   "cell_type": "code",
   "execution_count": null,
   "source": [
    "SURVEY_CSV_SIZES = SURVEY_CSV_FULL_NAMES.melt(id_vars=['Full Name', 'Payment method'], value_vars=ALL_SIZE_COLUMNS, value_name='Shirt Size')\n",
    "SURVEY_CSV_SIZES = SURVEY_CSV_SIZES.drop(columns=['variable'])\n",
    "\n",
    "SURVEY_CSV_SIZES.head()"
   ],
   "outputs": [],
   "metadata": {}
  },
  {
   "cell_type": "markdown",
   "source": [
    "_Transpose sleeve length columns._"
   ],
   "metadata": {}
  },
  {
   "cell_type": "code",
   "execution_count": null,
   "source": [
    "SURVEY_CSV_SLEEVE_LENGTH = SURVEY_CSV_FULL_NAMES.melt(id_vars=['Full Name', 'Payment method'], value_vars=ALL_SLEEVE_LENGTH_COLUMNS, \\\n",
    "    value_name='Shirt Sleeve Length')\n",
    "SURVEY_CSV_SLEEVE_LENGTH = SURVEY_CSV_SLEEVE_LENGTH.drop(columns=['variable'])\n",
    "\n",
    "SURVEY_CSV_SLEEVE_LENGTH.head()"
   ],
   "outputs": [],
   "metadata": {}
  },
  {
   "cell_type": "markdown",
   "source": [
    "_Join the size and sleeve length dataframes to obtain the final dataframe._"
   ],
   "metadata": {}
  },
  {
   "cell_type": "code",
   "execution_count": null,
   "source": [
    "SURVEY_CSV = SURVEY_CSV_SIZES.join(SURVEY_CSV_SLEEVE_LENGTH, how='outer', rsuffix='_duplicate')\n",
    "SURVEY_CSV = SURVEY_CSV.drop(columns=['Payment method_duplicate', 'Full Name_duplicate'])\n",
    "\n",
    "SURVEY_CSV.describe()"
   ],
   "outputs": [],
   "metadata": {}
  },
  {
   "cell_type": "code",
   "execution_count": null,
   "source": [
    "SURVEY_CSV.to_csv(path_or_buf=\"test.csv\")"
   ],
   "outputs": [],
   "metadata": {}
  },
  {
   "cell_type": "markdown",
   "source": [
    "Read in the Venmo CSV and confirm it was read in correctly."
   ],
   "metadata": {}
  },
  {
   "cell_type": "code",
   "execution_count": null,
   "source": [
    "VENMO_CSV_RAW: pd.DataFrame = pd.read_csv(VENMO_CSV_PATH, header=None, encoding=\"utf-8\", skiprows=IGNORE_VENMO_CSV_ROWS)\n",
    "\n",
    "# Drop first column of dataframe\n",
    "VENMO_CSV = VENMO_CSV_RAW.iloc[: , 1:]\n",
    "\n",
    "# Set first row as header and delete first row\n",
    "VENMO_CSV.columns = VENMO_CSV.iloc[0]\n",
    "VENMO_CSV = VENMO_CSV.iloc[1: , :]\n",
    "\n",
    "VENMO_CSV.head()"
   ],
   "outputs": [],
   "metadata": {}
  },
  {
   "cell_type": "markdown",
   "source": [
    "## Part 1: Summarize Orders"
   ],
   "metadata": {}
  },
  {
   "cell_type": "markdown",
   "source": [
    "Obtain totals for each type of shirt and display results in a contingency table."
   ],
   "metadata": {}
  },
  {
   "cell_type": "code",
   "execution_count": null,
   "source": [
    "data_crosstab: pd.DataFrame = pd.crosstab([SURVEY_CSV['Shirt Size']], SURVEY_CSV['Shirt Sleeve Length'], \\\n",
    "    margins = True, margins_name=\"Total\")\n",
    "\n",
    "print(data_crosstab)"
   ],
   "outputs": [],
   "metadata": {}
  },
  {
   "cell_type": "markdown",
   "source": [
    "Break down results by payment method."
   ],
   "metadata": {}
  },
  {
   "cell_type": "code",
   "execution_count": null,
   "source": [
    "data_crosstab_detailed: pd.DataFrame = pd.crosstab([SURVEY_CSV['Payment method'], SURVEY_CSV['Shirt Size']], SURVEY_CSV['Shirt Sleeve Length'], \\\n",
    "    margins = True, margins_name=\"Total\")\n",
    "\n",
    "print(data_crosstab_detailed)"
   ],
   "outputs": [],
   "metadata": {}
  },
  {
   "cell_type": "markdown",
   "source": [
    "Obtain less detailed totals (by not breaking down by shirt size)."
   ],
   "metadata": {}
  },
  {
   "cell_type": "code",
   "execution_count": null,
   "source": [
    "data_crosstab_no_shirt_size: pd.DataFrame = pd.crosstab(SURVEY_CSV['Payment method'], SURVEY_CSV['Shirt Sleeve Length'], \\\n",
    "    margins = True, margins_name=\"Total\")\n",
    "\n",
    "print(data_crosstab_no_shirt_size)"
   ],
   "outputs": [],
   "metadata": {}
  },
  {
   "cell_type": "markdown",
   "source": [
    "Obtain raw totals expected from the fundraiser. "
   ],
   "metadata": {}
  },
  {
   "cell_type": "code",
   "execution_count": null,
   "source": [
    "paypal_long_count: int = SURVEY_CSV.loc[(SURVEY_CSV['Payment method'] == \"PayPal\") & (SURVEY_CSV['Shirt Sleeve Length'] == \"Long\"), \\\n",
    "    'Full Name'].count()\n",
    "paypal_short_count: int = SURVEY_CSV.loc[(SURVEY_CSV['Payment method'] == \"PayPal\") & (SURVEY_CSV['Shirt Sleeve Length'] == \"Short\"), \\\n",
    "    'Full Name'].count()\n",
    "venmo_long_count: int = SURVEY_CSV.loc[(SURVEY_CSV['Payment method'] == \"Venmo\") & (SURVEY_CSV['Shirt Sleeve Length'] == \"Long\"), \\\n",
    "    'Full Name'].count()\n",
    "venmo_short_count: int = SURVEY_CSV.loc[(SURVEY_CSV['Payment method'] == \"Venmo\") & (SURVEY_CSV['Shirt Sleeve Length'] == \"Short\"), \\\n",
    "    'Full Name'].count()\n",
    "all_long_count: int = SURVEY_CSV.loc[(SURVEY_CSV['Shirt Sleeve Length'] == \"Long\"), 'Full Name'].count()\n",
    "all_short_count: int = SURVEY_CSV.loc[(SURVEY_CSV['Shirt Sleeve Length'] == \"Short\"), 'Full Name'].count()\n",
    "\n",
    "print(f\"Total $ expected in PayPal: {(paypal_long_count * LONG_PRICE) + (paypal_short_count * SHORT_PRICE)}\")\n",
    "print(f\"Total $ expected in Venmo: {(venmo_long_count * LONG_PRICE) + (venmo_short_count * SHORT_PRICE)}\")\n",
    "print(f\"\\nTotal gross $ expected (regardless of payment): {(all_long_count * LONG_PRICE) + (all_short_count * SHORT_PRICE)}\")"
   ],
   "outputs": [],
   "metadata": {}
  },
  {
   "cell_type": "markdown",
   "source": [
    "## Part 2: Account Balancing"
   ],
   "metadata": {}
  },
  {
   "cell_type": "markdown",
   "source": [
    "Determine how much each person should pay."
   ],
   "metadata": {}
  },
  {
   "cell_type": "code",
   "execution_count": null,
   "source": [
    "SURVEY_CSV_TOTALS = SURVEY_CSV_FULL_NAMES.copy(deep=True)\n",
    "SURVEY_CSV_TOTALS = SURVEY_CSV_TOTALS[['Full Name', 'Email', 'Payment method', 'TotalPrice']]\n",
    "SURVEY_CSV_TOTALS['Full Name'] = SURVEY_CSV_TOTALS['Full Name'].apply(lambda name: name.lower())\n",
    "SURVEY_CSV_TOTALS['TotalPrice'] = SURVEY_CSV_TOTALS['TotalPrice'].apply(lambda amount: float(amount))\n",
    "\n",
    "# Save email and payment method info for later.\n",
    "SURVEY_CSV_TEXT_INFO = SURVEY_CSV_TOTALS[['Full Name', 'Email', 'Payment method']]\n",
    "\n",
    "SURVEY_CSV_TOTALS.head()"
   ],
   "outputs": [],
   "metadata": {}
  },
  {
   "cell_type": "markdown",
   "source": [
    "Determine how much each person has paid."
   ],
   "metadata": {}
  },
  {
   "cell_type": "code",
   "execution_count": null,
   "source": [
    "VENMO_CSV_TOTALS = VENMO_CSV.copy(deep=True)\n",
    "VENMO_CSV_TOTALS = VENMO_CSV_TOTALS[['From', 'Note', 'Amount (total)']]\n",
    "VENMO_CSV_TOTALS.rename(columns={'From':'Full Name', 'Amount (total)':'Amount paid'}, inplace=True)\n",
    "VENMO_CSV_TOTALS['Full Name'] = VENMO_CSV_TOTALS['Full Name'].apply(lambda name: str(name).lower())\n",
    "VENMO_CSV_TOTALS['Amount paid'] = VENMO_CSV_TOTALS['Amount paid'].apply(lambda raw_payment: re.sub(\"[^0-9|^/.|^-]\", \"\", str(raw_payment)))\n",
    "VENMO_CSV_TOTALS['Amount paid'] = VENMO_CSV_TOTALS['Amount paid'].apply(lambda payment: float(payment) if payment != '' else np.NaN)\n",
    "# VENMO_CSV_TOTALS = VENMO_CSV_TOTALS.dropna()\n",
    "\n",
    "VENMO_CSV_TEXT_INFO = VENMO_CSV_TOTALS[['Full Name', 'Note']]\n",
    "\n",
    "VENMO_CSV_TOTALS.head()"
   ],
   "outputs": [],
   "metadata": {}
  },
  {
   "cell_type": "markdown",
   "source": [
    "Combine records of amounts owed with records of payments made and export the result to a csv."
   ],
   "metadata": {}
  },
  {
   "cell_type": "code",
   "execution_count": null,
   "source": [
    "ACCOUNTING_INFO = SURVEY_CSV_TOTALS.merge(VENMO_CSV_TOTALS, how='outer', on='Full Name')\n",
    "ACCOUNTING_INFO['TotalPrice'] = ACCOUNTING_INFO['TotalPrice'].fillna(0.0)\n",
    "ACCOUNTING_INFO['Amount paid'] = ACCOUNTING_INFO['Amount paid'].fillna(0.0)\n",
    "ACCOUNTING_INFO['Amount Owed'] = ACCOUNTING_INFO['TotalPrice'] - ACCOUNTING_INFO['Amount paid']\n",
    "ACCOUNTING_INFO_CORRECTED = ACCOUNTING_INFO.groupby([\"Full Name\"]).sum()\n",
    "\n",
    "# Add back email and note info.\n",
    "ACCOUNTING_INFO_ADD_SURVEY_INFO = ACCOUNTING_INFO_CORRECTED.merge(SURVEY_CSV_TEXT_INFO, how='left', on='Full Name')\n",
    "ACCOUNTING_INFO_COMPLETE = ACCOUNTING_INFO_ADD_SURVEY_INFO.merge(VENMO_CSV_TEXT_INFO, how='left', on='Full Name')\n",
    "\n",
    "ACCOUNTING_INFO_COMPLETE.to_csv(path_or_buf=ACCOUNTING_ALL_CSV_PATH)\n",
    "ACCOUNTING_INFO_COMPLETE.head()"
   ],
   "outputs": [],
   "metadata": {}
  },
  {
   "cell_type": "markdown",
   "source": [
    "Export rows where there is a difference in amount paid and amount owed to another csv."
   ],
   "metadata": {}
  },
  {
   "cell_type": "code",
   "execution_count": null,
   "source": [
    "ACCOUNTING_INFO_DIFFERENCES = ACCOUNTING_INFO_COMPLETE[ACCOUNTING_INFO_COMPLETE['Amount Owed'] != 0.0]\n",
    "\n",
    "ACCOUNTING_INFO_DIFFERENCES.to_csv(path_or_buf=ACCOUNTING_DIF_CSV_PATH)\n",
    "ACCOUNTING_INFO_DIFFERENCES.head()"
   ],
   "outputs": [],
   "metadata": {}
  }
 ],
 "metadata": {
  "orig_nbformat": 4,
  "language_info": {
   "name": "python",
   "version": "3.9.2",
   "mimetype": "text/x-python",
   "codemirror_mode": {
    "name": "ipython",
    "version": 3
   },
   "pygments_lexer": "ipython3",
   "nbconvert_exporter": "python",
   "file_extension": ".py"
  },
  "kernelspec": {
   "name": "python3",
   "display_name": "Python 3.9.2 64-bit"
  },
  "interpreter": {
   "hash": "e7a26f5bebd1b9da0f051359361ac514eb1c970e7ede8197699eeb788ac44870"
  }
 },
 "nbformat": 4,
 "nbformat_minor": 2
}